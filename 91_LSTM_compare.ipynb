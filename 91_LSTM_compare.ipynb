{
 "cells": [
  {
   "cell_type": "code",
   "execution_count": 1,
   "id": "7c086210-bc31-4348-b60e-bf216569311b",
   "metadata": {},
   "outputs": [],
   "source": [
    "import numpy as np\n",
    "import pandas as pd\n",
    "import matplotlib.pyplot as plt\n",
    "import seaborn as sns\n",
    "\n",
    "from tensorflow.keras.models import Sequential\n",
    "from tensorflow.keras.layers import Dense , Input, Activation, Dropout, BatchNormalization, LSTM, GRU, Bidirectional\n",
    "from tensorflow.keras.optimizers import Adam ,RMSprop\n",
    "from tensorflow.keras.utils import to_categorical, plot_model\n",
    "\n",
    "from sklearn.metrics import classification_report, confusion_matrix, ConfusionMatrixDisplay\n",
    "from sklearn.metrics import mean_squared_error\n",
    "from sklearn.preprocessing import MinMaxScaler, StandardScaler\n",
    "from sklearn.model_selection import train_test_split\n",
    "from sklearn.preprocessing import OrdinalEncoder\n",
    "from tensorflow.keras.regularizers import l2, l1\n",
    "\n",
    "import yfinance as yf\n",
    "import statsmodels as sms\n",
    "import statsmodels.api as sm\n",
    "\n",
    "pd.set_option('display.max_rows',60000)\n",
    "pd.set_option('display.max_columns',500)\n",
    "pd.set_option('display.max_colwidth',200)\n",
    "pd.options.display.float_format = '{:,.10f}'.format\n",
    "import warnings\n",
    "warnings.filterwarnings(\"ignore\")"
   ]
  },
  {
   "cell_type": "code",
   "execution_count": 2,
   "id": "731cb1b8-aba5-4cc2-b753-795e093ecbbb",
   "metadata": {},
   "outputs": [],
   "source": [
    "# Custom RMSE function\n",
    "def rmse_numpy(y_true, y_pred):\n",
    "    \"\"\"\n",
    "    Calculate Root Mean Squared Error (RMSE).\n",
    "    :param y_true: Ground truth values (actual).\n",
    "    :param y_pred: Predicted values (forecast).\n",
    "    :return: RMSE value.\n",
    "    \"\"\"\n",
    "    return np.sqrt(np.mean((y_true - y_pred) ** 2))"
   ]
  },
  {
   "cell_type": "code",
   "execution_count": 3,
   "id": "858f4b7a-8967-4333-8441-0b6bb8782d35",
   "metadata": {},
   "outputs": [],
   "source": [
    "v1 = pd.read_csv('outputs/my_data_view_1_0307.csv')"
   ]
  },
  {
   "cell_type": "code",
   "execution_count": 4,
   "id": "aac4dda7-c7d8-4099-9374-75acb4875e4a",
   "metadata": {},
   "outputs": [
    {
     "data": {
      "text/html": [
       "<div>\n",
       "<style scoped>\n",
       "    .dataframe tbody tr th:only-of-type {\n",
       "        vertical-align: middle;\n",
       "    }\n",
       "\n",
       "    .dataframe tbody tr th {\n",
       "        vertical-align: top;\n",
       "    }\n",
       "\n",
       "    .dataframe thead th {\n",
       "        text-align: right;\n",
       "    }\n",
       "</style>\n",
       "<table border=\"1\" class=\"dataframe\">\n",
       "  <thead>\n",
       "    <tr style=\"text-align: right;\">\n",
       "      <th></th>\n",
       "      <th>name</th>\n",
       "      <th>mape</th>\n",
       "      <th>rmse</th>\n",
       "      <th>mae</th>\n",
       "      <th>real_price</th>\n",
       "      <th>last_actual_date</th>\n",
       "      <th>cum_return_40d</th>\n",
       "      <th>return_price_40d</th>\n",
       "      <th>one_day_fwd_return</th>\n",
       "      <th>one_day_fwd_price</th>\n",
       "    </tr>\n",
       "  </thead>\n",
       "  <tbody>\n",
       "    <tr>\n",
       "      <th>0</th>\n",
       "      <td>PGR</td>\n",
       "      <td>479.8622127697</td>\n",
       "      <td>0.0214238257</td>\n",
       "      <td>0.0170248854</td>\n",
       "      <td>250.5377349854</td>\n",
       "      <td>2024-10-04</td>\n",
       "      <td>1.1968935389</td>\n",
       "      <td>299.8669962642</td>\n",
       "      <td>1.0003280531</td>\n",
       "      <td>250.6199246642</td>\n",
       "    </tr>\n",
       "    <tr>\n",
       "      <th>1</th>\n",
       "      <td>UNH</td>\n",
       "      <td>500.7424435648</td>\n",
       "      <td>0.0312661417</td>\n",
       "      <td>0.0247043192</td>\n",
       "      <td>588.9411621094</td>\n",
       "      <td>2024-10-04</td>\n",
       "      <td>1.0661103610</td>\n",
       "      <td>627.8762749668</td>\n",
       "      <td>1.0049833788</td>\n",
       "      <td>591.8760789880</td>\n",
       "    </tr>\n",
       "    <tr>\n",
       "      <th>2</th>\n",
       "      <td>LLY</td>\n",
       "      <td>1,964.1625537598</td>\n",
       "      <td>0.0309973732</td>\n",
       "      <td>0.0242067013</td>\n",
       "      <td>885.6931152344</td>\n",
       "      <td>2024-10-04</td>\n",
       "      <td>0.9553034864</td>\n",
       "      <td>846.1057208963</td>\n",
       "      <td>0.9790445609</td>\n",
       "      <td>867.1330271168</td>\n",
       "    </tr>\n",
       "    <tr>\n",
       "      <th>3</th>\n",
       "      <td>IBM</td>\n",
       "      <td>414.1061448292</td>\n",
       "      <td>0.0201612624</td>\n",
       "      <td>0.0151127237</td>\n",
       "      <td>222.7488098145</td>\n",
       "      <td>2024-10-04</td>\n",
       "      <td>1.2149206423</td>\n",
       "      <td>270.6221270928</td>\n",
       "      <td>1.0017344231</td>\n",
       "      <td>223.1351504996</td>\n",
       "    </tr>\n",
       "    <tr>\n",
       "      <th>4</th>\n",
       "      <td>GS</td>\n",
       "      <td>958.8584889684</td>\n",
       "      <td>0.0264154986</td>\n",
       "      <td>0.0195086668</td>\n",
       "      <td>492.7190551758</td>\n",
       "      <td>2024-10-04</td>\n",
       "      <td>1.2583960237</td>\n",
       "      <td>620.0356998279</td>\n",
       "      <td>0.9911069425</td>\n",
       "      <td>488.3372762974</td>\n",
       "    </tr>\n",
       "  </tbody>\n",
       "</table>\n",
       "</div>"
      ],
      "text/plain": [
       "  name             mape         rmse          mae     real_price  \\\n",
       "0  PGR   479.8622127697 0.0214238257 0.0170248854 250.5377349854   \n",
       "1  UNH   500.7424435648 0.0312661417 0.0247043192 588.9411621094   \n",
       "2  LLY 1,964.1625537598 0.0309973732 0.0242067013 885.6931152344   \n",
       "3  IBM   414.1061448292 0.0201612624 0.0151127237 222.7488098145   \n",
       "4   GS   958.8584889684 0.0264154986 0.0195086668 492.7190551758   \n",
       "\n",
       "  last_actual_date  cum_return_40d  return_price_40d  one_day_fwd_return  \\\n",
       "0       2024-10-04    1.1968935389    299.8669962642        1.0003280531   \n",
       "1       2024-10-04    1.0661103610    627.8762749668        1.0049833788   \n",
       "2       2024-10-04    0.9553034864    846.1057208963        0.9790445609   \n",
       "3       2024-10-04    1.2149206423    270.6221270928        1.0017344231   \n",
       "4       2024-10-04    1.2583960237    620.0356998279        0.9911069425   \n",
       "\n",
       "   one_day_fwd_price  \n",
       "0     250.6199246642  \n",
       "1     591.8760789880  \n",
       "2     867.1330271168  \n",
       "3     223.1351504996  \n",
       "4     488.3372762974  "
      ]
     },
     "execution_count": 4,
     "metadata": {},
     "output_type": "execute_result"
    }
   ],
   "source": [
    "v1.head()"
   ]
  },
  {
   "cell_type": "code",
   "execution_count": 5,
   "id": "a26d0cc5-65a0-4bb9-a35d-c204fc3a4f89",
   "metadata": {},
   "outputs": [],
   "source": [
    "df = pd.read_csv('outputs/time_forecasted_0307.csv')"
   ]
  },
  {
   "cell_type": "code",
   "execution_count": 6,
   "id": "47a047e6-0da3-4523-9c83-5171996fde94",
   "metadata": {},
   "outputs": [
    {
     "data": {
      "text/plain": [
       "208.9102966486002"
      ]
     },
     "execution_count": 6,
     "metadata": {},
     "output_type": "execute_result"
    }
   ],
   "source": [
    "210.1347351074\t+ (210.1347351074\t* ( -0.0058269208))"
   ]
  },
  {
   "cell_type": "code",
   "execution_count": 7,
   "id": "d489eaf1-ed26-4a72-8194-eb249a75b42e",
   "metadata": {},
   "outputs": [
    {
     "data": {
      "image/png": "[encoded data removed]",
      "text/plain": [
       "<Figure size 1000x500 with 1 Axes>"
      ]
     },
     "metadata": {},
     "output_type": "display_data"
    }
   ],
   "source": [
    "xx = df[df['stock']=='JPM'] #normal tft prediction \n",
    "actual_returns = np.array(xx['Test Series'])\n",
    "forecast_returns = np.array(xx['Forecasts'])\n",
    "\n",
    "price = round(v1[v1['name']=='JPM']['real_price'].values[0],2)\n",
    "\n",
    "actual_price_series = price * np.cumprod(1 + actual_returns)\n",
    "forecast_price_series = price * np.cumprod(1 + forecast_returns)\n",
    "\n",
    "# Prepend price to the series\n",
    "actual_price_series = np.insert(actual_price_series, 0, price)\n",
    "forecast_price_series = np.insert(forecast_price_series, 0, price)\n",
    "\n",
    "# Plot the prices\n",
    "plt.figure(figsize=(10, 5))\n",
    "plt.plot(actual_price_series, label='Actual Price', color='blue')\n",
    "plt.plot( forecast_price_series , label='Forecast Price', color='green')\n",
    "plt.scatter(0, price, color='red', label='Initial Price', zorder=3)  # Red dot for first price\n",
    "\n",
    "# Formatting the plot\n",
    "plt.title(\"Actual vs Forecasted Prices with Initial Price Highlighted\")\n",
    "plt.xlabel(\"Time Step Ahead\")\n",
    "plt.ylabel(\"Price\")\n",
    "plt.legend()\n",
    "plt.grid(True)\n",
    "plt.show()"
   ]
  },
  {
   "cell_type": "code",
   "execution_count": null,
   "id": "fea0fe2b-caf7-4b23-be2c-f02235844f5b",
   "metadata": {},
   "outputs": [],
   "source": []
  },
  {
   "cell_type": "code",
   "execution_count": 8,
   "id": "2091d54b-ee80-49b7-8dfd-e9b64bfe169a",
   "metadata": {},
   "outputs": [
    {
     "data": {
      "text/plain": [
       "array([0.99275034, 1.00689447, 1.04119455, 1.06085414, 1.09174652,\n",
       "       1.06204203, 1.08957136, 1.07883082, 1.04229605, 1.05931549,\n",
       "       1.07729888, 1.08774729, 1.08926063, 1.08261392, 1.09504945,\n",
       "       1.10005263, 1.09547659, 1.09203461, 1.08481055, 1.08693116,\n",
       "       1.08132181, 1.10677173, 1.10903279, 1.11795921, 1.1167054 ,\n",
       "       1.12662294, 1.11891711, 1.12767647, 1.1339193 , 1.12507408,\n",
       "       1.10574685, 1.12344895, 1.10614339, 1.07950032, 1.09994101,\n",
       "       1.08186791, 1.07053812, 1.0727722 , 1.06277672, 1.06688293])"
      ]
     },
     "execution_count": 8,
     "metadata": {},
     "output_type": "execute_result"
    }
   ],
   "source": [
    "np.cumprod(1 + forecast_returns)"
   ]
  },
  {
   "cell_type": "code",
   "execution_count": null,
   "id": "20e82b18-4368-4539-a21e-63ee1541fd9b",
   "metadata": {},
   "outputs": [],
   "source": []
  },
  {
   "cell_type": "code",
   "execution_count": 9,
   "id": "80d782a3-556a-4485-a23c-dca8ee59acae",
   "metadata": {},
   "outputs": [
    {
     "name": "stdout",
     "output_type": "stream",
     "text": [
      "Final Cumulative Return from np.cumprod: 1.0668829339336987\n",
      "Final Cumulative Return from np.prod: 1.0668829339336987\n",
      "[208.60662866 211.57873512 218.78621124 222.91727993 229.40869725\n",
      " 223.16689281 228.95163012 226.69472005 219.01766934 222.59396458\n",
      " 226.37281425 228.56833904 228.88633559 227.48966283 230.10274172\n",
      " 231.15405864 230.19249617 229.4692336  227.95124158 228.39684443\n",
      " 227.21815111 232.5659438  233.04106064 234.91676937 234.65330612\n",
      " 236.73727812 235.118053   236.95865569 238.27046303 236.41181591\n",
      " 232.3505862  236.07032743 232.43391016 226.83540262 231.13060344\n",
      " 227.33290378 224.95217414 225.42162157 223.32127149 224.18411091]\n",
      "224.1841109074881\n"
     ]
    }
   ],
   "source": [
    "print(\"Final Cumulative Return from np.cumprod:\", np.cumprod(1+forecast_returns)[-1]) #40 time steps\n",
    "print(\"Final Cumulative Return from np.prod:\", np.prod(1+forecast_returns))\n",
    "price = round(v1[v1['name']=='JPM']['real_price'].values[0],2)\n",
    "print(price * np.cumprod(1+forecast_returns)) \n",
    "print(price * np.prod(1+forecast_returns))"
   ]
  },
  {
   "cell_type": "code",
   "execution_count": 10,
   "id": "34c7620d-af50-4a74-842a-b1552c54ec2d",
   "metadata": {},
   "outputs": [
    {
     "data": {
      "text/plain": [
       "1.0668829339336987"
      ]
     },
     "execution_count": 10,
     "metadata": {},
     "output_type": "execute_result"
    }
   ],
   "source": [
    "cumulative_return_0 = np.prod(1+forecast_returns)\n",
    "cumulative_return_0 "
   ]
  },
  {
   "cell_type": "code",
   "execution_count": null,
   "id": "a510d169-6133-4a40-ad2d-7bfd0919f7bb",
   "metadata": {},
   "outputs": [],
   "source": []
  },
  {
   "cell_type": "code",
   "execution_count": 33,
   "id": "41cdcac1-fdf9-4d83-a13b-f9402584484e",
   "metadata": {},
   "outputs": [],
   "source": [
    "mini_ = pd.read_csv('mini_portfolios_0219.csv')\n",
    "mapper_1 = {a:b for a,b in zip(mini_['Ticker'],mini_['Sector'])}"
   ]
  },
  {
   "cell_type": "code",
   "execution_count": 11,
   "id": "d81241b8-bb11-4828-b528-cafbeb8a864f",
   "metadata": {},
   "outputs": [],
   "source": [
    "#rmse_numpy(actual,forecast)"
   ]
  },
  {
   "cell_type": "code",
   "execution_count": 12,
   "id": "8ceab732-0bea-4e7f-88c1-1b43721e6c9e",
   "metadata": {},
   "outputs": [],
   "source": [
    "lstm_v = pd.read_csv('outputs/results_36_lstm.csv')\n",
    "ticker_list = list(lstm_v['ticker'].unique())\n",
    "\n",
    "lstm_rmse = {}\n",
    "\n",
    "for t in ticker_list: \n",
    "    xx2 = lstm_v[lstm_v['ticker']==t].iloc[-40:]\n",
    "    actual_returns = np.array(xx2['actual_values'])\n",
    "    forecast_returns = np.array(xx2['predicted_values'])\n",
    "    rmse = rmse_numpy(actual_returns, forecast_returns)\n",
    "    lstm_rmse[t] = rmse"
   ]
  },
  {
   "cell_type": "code",
   "execution_count": 28,
   "id": "6931df6d-050d-422d-ae03-b750a91af7b5",
   "metadata": {},
   "outputs": [],
   "source": [
    "view_1 = v1[['name','rmse']].copy()\n",
    "view_1.columns = ['name','rmse_tft']\n",
    "view_1['rmse_lstm'] = view_1['name'].map(lstm_rmse)\n",
    "view_1['sector'] = view_1['name'].map(mapper_1)"
   ]
  },
  {
   "cell_type": "code",
   "execution_count": 41,
   "id": "7ef38670-016f-495f-ab13-c0671a692555",
   "metadata": {},
   "outputs": [
    {
     "name": "stdout",
     "output_type": "stream",
     "text": [
      "rmse lstm: 0.02118462557875179\n",
      "rmse tft: 0.02781555317560884\n"
     ]
    }
   ],
   "source": [
    "rmse_lstm = view_1['rmse_lstm'].mean()\n",
    "rmse_tft = view_1['rmse_tft'].mean()\n",
    "\n",
    "print(f'rmse lstm: {rmse_lstm}')\n",
    "print(f'rmse tft: {rmse_tft}')"
   ]
  },
  {
   "cell_type": "code",
   "execution_count": 30,
   "id": "9f41132d-d74e-483d-b6e7-2d1d3563d0d0",
   "metadata": {},
   "outputs": [
    {
     "data": {
      "text/plain": [
       "0.02781555317560884"
      ]
     },
     "execution_count": 30,
     "metadata": {},
     "output_type": "execute_result"
    }
   ],
   "source": []
  },
  {
   "cell_type": "code",
   "execution_count": 35,
   "id": "c2024ba9-023d-4a2f-9eb3-dfc604d92e2e",
   "metadata": {},
   "outputs": [
    {
     "data": {
      "text/html": [
       "<div>\n",
       "<style scoped>\n",
       "    .dataframe tbody tr th:only-of-type {\n",
       "        vertical-align: middle;\n",
       "    }\n",
       "\n",
       "    .dataframe tbody tr th {\n",
       "        vertical-align: top;\n",
       "    }\n",
       "\n",
       "    .dataframe thead th {\n",
       "        text-align: right;\n",
       "    }\n",
       "</style>\n",
       "<table border=\"1\" class=\"dataframe\">\n",
       "  <thead>\n",
       "    <tr style=\"text-align: right;\">\n",
       "      <th></th>\n",
       "      <th>rmse_lstm</th>\n",
       "      <th>rmse_tft</th>\n",
       "    </tr>\n",
       "    <tr>\n",
       "      <th>sector</th>\n",
       "      <th></th>\n",
       "      <th></th>\n",
       "    </tr>\n",
       "  </thead>\n",
       "  <tbody>\n",
       "    <tr>\n",
       "      <th>Communication Services</th>\n",
       "      <td>0.0190447814</td>\n",
       "      <td>0.0224508587</td>\n",
       "    </tr>\n",
       "    <tr>\n",
       "      <th>Consumer Cyclical</th>\n",
       "      <td>0.0250782830</td>\n",
       "      <td>0.0314922151</td>\n",
       "    </tr>\n",
       "    <tr>\n",
       "      <th>Energy</th>\n",
       "      <td>0.0200239338</td>\n",
       "      <td>0.0270595738</td>\n",
       "    </tr>\n",
       "    <tr>\n",
       "      <th>Financial Services</th>\n",
       "      <td>0.0199799323</td>\n",
       "      <td>0.0226769006</td>\n",
       "    </tr>\n",
       "    <tr>\n",
       "      <th>Healthcare</th>\n",
       "      <td>0.0231225965</td>\n",
       "      <td>0.0261445413</td>\n",
       "    </tr>\n",
       "    <tr>\n",
       "      <th>Technology</th>\n",
       "      <td>0.0198582265</td>\n",
       "      <td>0.0370692295</td>\n",
       "    </tr>\n",
       "  </tbody>\n",
       "</table>\n",
       "</div>"
      ],
      "text/plain": [
       "                          rmse_lstm     rmse_tft\n",
       "sector                                          \n",
       "Communication Services 0.0190447814 0.0224508587\n",
       "Consumer Cyclical      0.0250782830 0.0314922151\n",
       "Energy                 0.0200239338 0.0270595738\n",
       "Financial Services     0.0199799323 0.0226769006\n",
       "Healthcare             0.0231225965 0.0261445413\n",
       "Technology             0.0198582265 0.0370692295"
      ]
     },
     "execution_count": 35,
     "metadata": {},
     "output_type": "execute_result"
    }
   ],
   "source": [
    "view_1.groupby('sector')[['rmse_lstm','rmse_tft']].mean()"
   ]
  },
  {
   "cell_type": "code",
   "execution_count": null,
   "id": "45621947-ccf1-4639-8f5a-3f2c50592047",
   "metadata": {},
   "outputs": [],
   "source": []
  },
  {
   "cell_type": "code",
   "execution_count": null,
   "id": "6938f399-b733-4446-9079-7f6a03e372e8",
   "metadata": {},
   "outputs": [],
   "source": []
  }
 ],
 "metadata": {
  "kernelspec": {
   "display_name": "Python 3 (ipykernel)",
   "language": "python",
   "name": "python3"
  },
  "language_info": {
   "codemirror_mode": {
    "name": "ipython",
    "version": 3
   },
   "file_extension": ".py",
   "mimetype": "text/x-python",
   "name": "python",
   "nbconvert_exporter": "python",
   "pygments_lexer": "ipython3",
   "version": "3.10.15"
  }
 },
 "nbformat": 4,
 "nbformat_minor": 5
}
