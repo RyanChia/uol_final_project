{
 "cells": [
  {
   "cell_type": "code",
   "execution_count": 1,
   "id": "7cbe4de5-3a5b-46b5-a5d1-bf5160dbe64f",
   "metadata": {},
   "outputs": [],
   "source": [
    "import numpy as np\n",
    "import pandas as pd\n",
    "import matplotlib.pyplot as plt\n",
    "import seaborn as sns\n",
    "\n",
    "import statsmodels as sms\n",
    "import statsmodels.api as sm\n",
    "\n",
    "pd.set_option('display.max_rows',60000)\n",
    "pd.set_option('display.max_columns',500)\n",
    "pd.set_option('display.max_colwidth',200)\n",
    "pd.options.display.float_format = '{:,.10f}'.format\n",
    "import warnings\n",
    "warnings.filterwarnings(\"ignore\")"
   ]
  },
  {
   "cell_type": "markdown",
   "id": "f626dec2-add8-4a05-bea5-9ba7f9733cb8",
   "metadata": {},
   "source": [
    "# Black Litterman Implementation "
   ]
  },
  {
   "cell_type": "code",
   "execution_count": 2,
   "id": "2dcb3107-9e5c-41c7-8bff-f335bcc5a9fc",
   "metadata": {},
   "outputs": [],
   "source": [
    "d1 = pd.read_csv('outputs/my_data_view_1_0307.csv')\\\n",
    "[['name','last_actual_date','real_price','cum_return_40d','return_price_40d']].copy()\n",
    "d1['perc_'] = d1['cum_return_40d'] - 1.0\n",
    "\n",
    "\n",
    "d2 = pd.read_csv('mini_portfolios_0219.csv')[['Ticker','Sector','Beta','Sector_Weight']].copy()\n",
    "\n",
    "d3 = pd.merge(d1,d2,how='outer',left_on='name',right_on='Ticker')\n",
    "\n",
    "d3_output = d3[['Ticker','perc_','Sector','Sector_Weight','Beta']].copy()\n",
    "#d3_output.to_csv('for_blacklitter.csv')"
   ]
  },
  {
   "cell_type": "code",
   "execution_count": 3,
   "id": "774d36e9-a3d6-4dff-8021-56883bd1fb42",
   "metadata": {},
   "outputs": [],
   "source": [
    "ext = pd.read_csv('dataset_250222_run.csv', parse_dates=['date'])[['date','ticker_id','sector','close']].copy()\n",
    "\n",
    "# Set cutoff date\n",
    "cutoff_date = pd.to_datetime('2024-10-04')\n",
    "\n",
    "# Filter data to only include dates up to the cutoff\n",
    "ext = ext[ext['date'] <= cutoff_date]\n",
    "\n",
    "# Create an empty list to hold each stock's column\n",
    "price_columns = []\n",
    "\n",
    "# Loop through each unique ticker\n",
    "for ticker in ext['ticker_id'].unique():\n",
    "    stock_df = ext[ext['ticker_id'] == ticker].sort_values('date', ascending=False).head(200)\n",
    "    \n",
    "    # Sort prices in ascending order (oldest to newest)\n",
    "    stock_prices = stock_df.sort_values('date')['close'].reset_index(drop=True)\n",
    "    \n",
    "    # Rename the column to the ticker\n",
    "    stock_prices.name = ticker\n",
    "    \n",
    "    # Append to list\n",
    "    price_columns.append(stock_prices)\n",
    "\n",
    "# Concatenate all columns side by side\n",
    "final_df = pd.concat(price_columns, axis=1)"
   ]
  },
  {
   "cell_type": "code",
   "execution_count": 13,
   "id": "38a0b228-c65d-4f1d-a79b-024b20ac1018",
   "metadata": {},
   "outputs": [],
   "source": [
    "import pandas as pd\n",
    "import numpy as np\n",
    "from pypfopt.black_litterman import BlackLittermanModel, market_implied_prior_returns\n",
    "from pypfopt.risk_models import CovarianceShrinkage\n",
    "from pypfopt.expected_returns import mean_historical_return\n",
    "from pypfopt.efficient_frontier import EfficientFrontier\n",
    "from pypfopt import plotting\n",
    "\n",
    "def optimize_sector_portfolio2( risk_level):\n",
    "    \"\"\"\n",
    "    Run a Black-Litterman optimization at the sector level.\n",
    "\n",
    "    Parameters:\n",
    "    - file_path: Path to the CSV file with columns: Ticker, perc_, Sector, Sector_Weight\n",
    "    - risk_level: 'very low', 'low', 'mid', 'high', or 'very high'\n",
    "\n",
    "    Returns:\n",
    "    - Dictionary of optimized sector weights\n",
    "    \"\"\"\n",
    "    # ---- Load CSV ----\n",
    "    df = pd.read_csv(\"for_blacklitter.csv\")\n",
    "\n",
    "    # ---- Sector-Level Weighted Views ----\n",
    "    df[\"weighted_view\"] = df[\"perc_\"] * df[\"Sector_Weight\"]\n",
    "    sector_views = df.groupby(\"Sector\")[\"weighted_view\"].sum()\n",
    "    sectors = sector_views.index.tolist()\n",
    "\n",
    "    # ---- Simulate Stock-Level Price Data ----\n",
    "    tickers = df[\"Ticker\"].tolist()\n",
    "    np.random.seed(42)\n",
    "    n_days = 100\n",
    "    price_data = final_df.copy()\n",
    "\n",
    "    # ---- Build Sector Price Series ----\n",
    "    sector_price_data = pd.DataFrame(index=range(n_days))\n",
    "    for sector in sectors:\n",
    "        sector_tickers = df[df[\"Sector\"] == sector][\"Ticker\"].tolist()\n",
    "        sector_prices = price_data[sector_tickers]\n",
    "        normalized = sector_prices / sector_prices.iloc[0]\n",
    "        weights = np.array([1 / len(sector_tickers)] * len(sector_tickers))\n",
    "        sector_series = (normalized * weights).sum(axis=1) * 100  # rescale to base 100\n",
    "        sector_price_data[sector] = sector_series\n",
    "\n",
    "    # ---- Returns & Covariance ----\n",
    "    mu = mean_historical_return(sector_price_data)\n",
    "    S = CovarianceShrinkage(sector_price_data).ledoit_wolf()\n",
    "\n",
    "    # ---- Market Caps from Sector Weights ----\n",
    "    sector_weights = df.groupby(\"Sector\")[\"Sector_Weight\"].mean()\n",
    "    market_caps = sector_weights * 100  # scale to avoid underflow\n",
    "\n",
    "    # ---- Market Implied Prior ----\n",
    "    delta = 2.5\n",
    "    market_prior = market_implied_prior_returns(\n",
    "        market_caps=market_caps,\n",
    "        risk_aversion=delta,\n",
    "        cov_matrix=S\n",
    "    )\n",
    "\n",
    "    # ---- Black-Litterman Model ----\n",
    "    views = sector_views.to_dict()\n",
    "    bl = BlackLittermanModel(S, pi=market_prior, absolute_views=views)\n",
    "    bl_returns = bl.bl_returns()\n",
    "    bl_cov = bl.bl_cov()\n",
    "\n",
    "    # ---- Optimize ----\n",
    "    ef = EfficientFrontier(bl_returns, bl_cov)\n",
    "\n",
    "    plotting.plot_efficient_frontier(ef)\n",
    "    plt.show()\n",
    "\n",
    "    risk_level = risk_level.lower()\n",
    "\n",
    "    # Dynamically compute target return bands from BL expected returns\n",
    "    # Get min and max expected return from Black-Litterman model\n",
    "    min_ret = bl_returns.min()\n",
    "    max_ret = bl_returns.max() - 1e-6  # subtract epsilon to stay within optimizer bounds\n",
    "\n",
    "    # Generate 5 evenly spaced return targets (low → high)\n",
    "    ret_targets = np.linspace(min_ret, max_ret, 5)\n",
    "\n",
    "    # Assign them to levels\n",
    "    very_low_ret, low_ret, mid_ret, high_ret, very_high_ret = ret_targets\n",
    "\n",
    "    # Risk Level to Optimization Strategy\n",
    "    if risk_level == \"very high\":\n",
    "        weights = ef.efficient_return(target_return=very_high_ret)\n",
    "        print(f\" VERY HIGH risk — targeting highest return: {very_high_ret:.2%}\")\n",
    "    elif risk_level == \"high\":\n",
    "        weights = ef.efficient_return(target_return=high_ret)\n",
    "        print(f\" HIGH risk — targeting high return: {high_ret:.2%}\")\n",
    "    elif risk_level == \"mid\":\n",
    "        weights = ef.efficient_return(target_return=mid_ret)\n",
    "        print(f\" MID risk — targeting medium return: {mid_ret:.2%}\")\n",
    "    elif risk_level == \"low\":\n",
    "        weights = ef.efficient_return(target_return=low_ret)\n",
    "        print(f\" LOW risk — targeting conservative return: {low_ret:.2%}\")\n",
    "    elif risk_level == \"very low\":\n",
    "        weights = ef.efficient_return(target_return=very_low_ret)\n",
    "        print(f\" VERY LOW risk — targeting minimum return: {very_low_ret:.2%}\")\n",
    "    else:\n",
    "        raise ValueError(\"Invalid risk level. Choose: very low, low, mid, high, very high.\")\n",
    "\n",
    "    # ---- Results ----\n",
    "    cleaned_weights = ef.clean_weights()\n",
    "    print(\"\\n Optimized Sector Weights:\")\n",
    "    for sector, weight in cleaned_weights.items():\n",
    "        print(f\"{sector}: {weight:.2%}\")\n",
    "\n",
    "    ef.portfolio_performance(verbose=True)\n",
    "    return cleaned_weights"
   ]
  },
  {
   "cell_type": "code",
   "execution_count": 14,
   "id": "e21b4895-ad7f-4ea7-8f37-ed8020a85e7a",
   "metadata": {},
   "outputs": [
    {
     "data": {
      "image/png": "[encoded data removed]",
      "text/plain": [
       "<Figure size 640x480 with 1 Axes>"
      ]
     },
     "metadata": {},
     "output_type": "display_data"
    },
    {
     "name": "stdout",
     "output_type": "stream",
     "text": [
      " VERY HIGH risk — targeting highest return: 5.46%\n",
      "\n",
      " Optimized Sector Weights:\n",
      "Communication Services: 0.00%\n",
      "Consumer Cyclical: 0.00%\n",
      "Energy: 0.09%\n",
      "Financial Services: 99.91%\n",
      "Healthcare: 0.00%\n",
      "Technology: 0.00%\n",
      "Expected annual return: 5.5%\n",
      "Annual volatility: 11.4%\n",
      "Sharpe Ratio: 0.48\n"
     ]
    },
    {
     "data": {
      "text/plain": [
       "OrderedDict([('Communication Services', 0.0),\n",
       "             ('Consumer Cyclical', 0.0),\n",
       "             ('Energy', 0.00094),\n",
       "             ('Financial Services', 0.99911),\n",
       "             ('Healthcare', 0.0),\n",
       "             ('Technology', 0.0)])"
      ]
     },
     "execution_count": 14,
     "metadata": {},
     "output_type": "execute_result"
    }
   ],
   "source": [
    "optimize_sector_portfolio2( risk_level=\"very high\")"
   ]
  },
  {
   "cell_type": "code",
   "execution_count": 6,
   "id": "a43b0fdc-5306-4bc7-9809-48f937933e41",
   "metadata": {},
   "outputs": [
    {
     "name": "stdout",
     "output_type": "stream",
     "text": [
      " HIGH risk — targeting high return: 3.38%\n",
      "\n",
      " Optimized Sector Weights:\n",
      "Communication Services: 12.60%\n",
      "Consumer Cyclical: 3.21%\n",
      "Energy: 19.98%\n",
      "Financial Services: 34.10%\n",
      "Healthcare: 30.11%\n",
      "Technology: 0.00%\n",
      "Expected annual return: 3.4%\n",
      "Annual volatility: 8.2%\n",
      "Sharpe Ratio: 0.41\n"
     ]
    },
    {
     "data": {
      "text/plain": [
       "OrderedDict([('Communication Services', 0.12603),\n",
       "             ('Consumer Cyclical', 0.03207),\n",
       "             ('Energy', 0.19981),\n",
       "             ('Financial Services', 0.34097),\n",
       "             ('Healthcare', 0.30111),\n",
       "             ('Technology', 0.0)])"
      ]
     },
     "execution_count": 6,
     "metadata": {},
     "output_type": "execute_result"
    }
   ],
   "source": [
    "optimize_sector_portfolio2( risk_level=\"high\")"
   ]
  },
  {
   "cell_type": "code",
   "execution_count": 7,
   "id": "065e1c11-322f-470e-95b7-d970d504a6d4",
   "metadata": {},
   "outputs": [
    {
     "name": "stdout",
     "output_type": "stream",
     "text": [
      " MID risk — targeting medium return: 1.30%\n",
      "\n",
      " Optimized Sector Weights:\n",
      "Communication Services: 11.88%\n",
      "Consumer Cyclical: 6.68%\n",
      "Energy: 19.44%\n",
      "Financial Services: 31.30%\n",
      "Healthcare: 30.71%\n",
      "Technology: 0.00%\n",
      "Expected annual return: 3.1%\n",
      "Annual volatility: 8.2%\n",
      "Sharpe Ratio: 0.38\n"
     ]
    },
    {
     "data": {
      "text/plain": [
       "OrderedDict([('Communication Services', 0.11876),\n",
       "             ('Consumer Cyclical', 0.06684),\n",
       "             ('Energy', 0.19436),\n",
       "             ('Financial Services', 0.31298),\n",
       "             ('Healthcare', 0.30707),\n",
       "             ('Technology', 0.0)])"
      ]
     },
     "execution_count": 7,
     "metadata": {},
     "output_type": "execute_result"
    }
   ],
   "source": [
    "optimize_sector_portfolio2( risk_level=\"mid\")"
   ]
  },
  {
   "cell_type": "code",
   "execution_count": 8,
   "id": "26b3cb90-9a57-4e15-b84a-01548889e130",
   "metadata": {},
   "outputs": [
    {
     "name": "stdout",
     "output_type": "stream",
     "text": [
      " LOW risk — targeting conservative return: -0.77%\n",
      "\n",
      " Optimized Sector Weights:\n",
      "Communication Services: 11.88%\n",
      "Consumer Cyclical: 6.68%\n",
      "Energy: 19.44%\n",
      "Financial Services: 31.30%\n",
      "Healthcare: 30.71%\n",
      "Technology: 0.00%\n",
      "Expected annual return: 3.1%\n",
      "Annual volatility: 8.2%\n",
      "Sharpe Ratio: 0.38\n"
     ]
    },
    {
     "data": {
      "text/plain": [
       "OrderedDict([('Communication Services', 0.11876),\n",
       "             ('Consumer Cyclical', 0.06684),\n",
       "             ('Energy', 0.19436),\n",
       "             ('Financial Services', 0.31298),\n",
       "             ('Healthcare', 0.30707),\n",
       "             ('Technology', 0.0)])"
      ]
     },
     "execution_count": 8,
     "metadata": {},
     "output_type": "execute_result"
    }
   ],
   "source": [
    "optimize_sector_portfolio2( risk_level=\"low\")"
   ]
  },
  {
   "cell_type": "code",
   "execution_count": 9,
   "id": "b42904b7-1a53-4a0a-abbb-6ad4272ca0e5",
   "metadata": {},
   "outputs": [
    {
     "name": "stdout",
     "output_type": "stream",
     "text": [
      " VERY LOW risk — targeting minimum return: -2.85%\n",
      "\n",
      " Optimized Sector Weights:\n",
      "Communication Services: 11.88%\n",
      "Consumer Cyclical: 6.68%\n",
      "Energy: 19.44%\n",
      "Financial Services: 31.30%\n",
      "Healthcare: 30.71%\n",
      "Technology: 0.00%\n",
      "Expected annual return: 3.1%\n",
      "Annual volatility: 8.2%\n",
      "Sharpe Ratio: 0.38\n"
     ]
    },
    {
     "data": {
      "text/plain": [
       "OrderedDict([('Communication Services', 0.11876),\n",
       "             ('Consumer Cyclical', 0.06684),\n",
       "             ('Energy', 0.19436),\n",
       "             ('Financial Services', 0.31298),\n",
       "             ('Healthcare', 0.30707),\n",
       "             ('Technology', 0.0)])"
      ]
     },
     "execution_count": 9,
     "metadata": {},
     "output_type": "execute_result"
    }
   ],
   "source": [
    "optimize_sector_portfolio2( risk_level=\"very low\")"
   ]
  },
  {
   "cell_type": "code",
   "execution_count": null,
   "id": "f244153d-c59d-4803-a657-e9a7883a6527",
   "metadata": {},
   "outputs": [],
   "source": []
  }
 ],
 "metadata": {
  "kernelspec": {
   "display_name": "Python 3 (ipykernel)",
   "language": "python",
   "name": "python3"
  },
  "language_info": {
   "codemirror_mode": {
    "name": "ipython",
    "version": 3
   },
   "file_extension": ".py",
   "mimetype": "text/x-python",
   "name": "python",
   "nbconvert_exporter": "python",
   "pygments_lexer": "ipython3",
   "version": "3.10.15"
  }
 },
 "nbformat": 4,
 "nbformat_minor": 5
}
